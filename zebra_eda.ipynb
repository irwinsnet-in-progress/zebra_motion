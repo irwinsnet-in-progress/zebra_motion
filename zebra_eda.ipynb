{
 "cells": [
  {
   "cell_type": "markdown",
   "id": "aff39b03-5e58-42ff-866a-c7a023feeae7",
   "metadata": {},
   "source": [
    "# Zebra Data EDA"
   ]
  },
  {
   "cell_type": "code",
   "execution_count": 1,
   "id": "6292c14f-9607-42ad-a1a4-2cb4335fab78",
   "metadata": {},
   "outputs": [],
   "source": [
    "import json\n",
    "\n",
    "import numpy as np\n",
    "\n",
    "import tba\n",
    "import zebra"
   ]
  },
  {
   "cell_type": "code",
   "execution_count": 2,
   "id": "be745ee7-8b1e-4f3c-b371-899560b7557a",
   "metadata": {},
   "outputs": [
    {
     "name": "stdout",
     "output_type": "stream",
     "text": [
      "\n",
      "Downloading events for 2020\n",
      "Processing event: 2020orore\n",
      "Processing event: 2020orsal\n",
      "Processing event: 2020orwil\n",
      "Processing event: 2020pncmp\n",
      "Processing event: 2020waahs\n",
      "Processing event: 2020waamv\n",
      "Processing event: 2020wabel\n",
      "Processing event: 2020wasno\n",
      "Processing event: 2020waspo\n",
      "Processing event: 2020wayak\n"
     ]
    }
   ],
   "source": [
    "zebra.path_data(2020)"
   ]
  },
  {
   "cell_type": "code",
   "execution_count": 3,
   "id": "95c4e500-434a-4dc3-92ba-acae9dadb99d",
   "metadata": {},
   "outputs": [],
   "source": [
    "# Get path data for a single match\n",
    "with open('zebra.jsonl') as jfile:\n",
    "    m1_path = json.loads(jfile.readline())"
   ]
  },
  {
   "cell_type": "code",
   "execution_count": 4,
   "id": "8ed83ab3-6490-4f55-a3d6-066d0ddeec61",
   "metadata": {},
   "outputs": [],
   "source": [
    "# Use a class to make it easier to work with data\n",
    "class ZPath():\n",
    "    def __init__(self, path_data):\n",
    "        self.event = path_data['event']\n",
    "        self.match = path_data['match']\n",
    "        self.blue = [team['team_key'] for team in path_data['zebra']['alliances']['blue']]\n",
    "        self.red = [team['team_key'] for team in path_data['zebra']['alliances']['red']]\n",
    "        paths = []\n",
    "        for alliance in ['blue', 'red']:\n",
    "            for team in path_data['zebra']['alliances'][alliance]:\n",
    "                for axis in ['xs', 'ys']:\n",
    "                    paths.append(team[axis])\n",
    "        self.paths = np.array(paths)\n",
    "        self.score = path_data['score']"
   ]
  },
  {
   "cell_type": "code",
   "execution_count": 5,
   "id": "0d713fe3-893c-47d6-a095-8f91701d9420",
   "metadata": {},
   "outputs": [
    {
     "data": {
      "text/plain": [
       "(12, 1504)"
      ]
     },
     "execution_count": 5,
     "metadata": {},
     "output_type": "execute_result"
    }
   ],
   "source": [
    "# Instantiate class and check length of path arrays\n",
    "zp1 = ZPath(m1_path)\n",
    "zp1.paths.shape"
   ]
  },
  {
   "cell_type": "code",
   "execution_count": 6,
   "id": "c015ded0-0648-4637-a371-fe612fd12d7b",
   "metadata": {},
   "outputs": [
    {
     "name": "stdout",
     "output_type": "stream",
     "text": [
      "True\n",
      "True\n",
      "True\n",
      "True\n",
      "True\n",
      "True\n",
      "True\n",
      "True\n",
      "True\n",
      "True\n",
      "True\n",
      "True\n"
     ]
    }
   ],
   "source": [
    "# Verify structure of 2D numpy array with path data\n",
    "print(list(zp1.paths[0, :10]) == m1_path['zebra']['alliances']['blue'][0]['xs'][:10])\n",
    "print(list(zp1.paths[1, :10]) == m1_path['zebra']['alliances']['blue'][0]['ys'][:10])\n",
    "print(list(zp1.paths[2, :10]) == m1_path['zebra']['alliances']['blue'][1]['xs'][:10])\n",
    "print(list(zp1.paths[3, :10]) == m1_path['zebra']['alliances']['blue'][1]['ys'][:10])\n",
    "print(list(zp1.paths[4, :10]) == m1_path['zebra']['alliances']['blue'][2]['xs'][:10])\n",
    "print(list(zp1.paths[5, :10]) == m1_path['zebra']['alliances']['blue'][2]['ys'][:10])\n",
    "print(list(zp1.paths[6, :10]) == m1_path['zebra']['alliances']['red'][0]['xs'][:10])\n",
    "print(list(zp1.paths[7, :10]) == m1_path['zebra']['alliances']['red'][0]['ys'][:10])\n",
    "print(list(zp1.paths[8, :10]) == m1_path['zebra']['alliances']['red'][1]['xs'][:10])\n",
    "print(list(zp1.paths[9, :10]) == m1_path['zebra']['alliances']['red'][1]['ys'][:10])\n",
    "print(list(zp1.paths[10, :10]) == m1_path['zebra']['alliances']['red'][2]['xs'][:10])\n",
    "print(list(zp1.paths[11, :10]) == m1_path['zebra']['alliances']['red'][2]['ys'][:10])"
   ]
  },
  {
   "cell_type": "code",
   "execution_count": 8,
   "id": "848ab6a1-48ef-4cc5-96ab-cd81387cf6f4",
   "metadata": {},
   "outputs": [
    {
     "data": {
      "text/plain": [
       "{'actual_time': 1583018668,\n",
       " 'alliances': {'blue': {'dq_team_keys': [],\n",
       "   'score': 171,\n",
       "   'surrogate_team_keys': [],\n",
       "   'team_keys': ['frc4488', 'frc3674', 'frc6465']},\n",
       "  'red': {'dq_team_keys': [],\n",
       "   'score': 179,\n",
       "   'surrogate_team_keys': [],\n",
       "   'team_keys': ['frc1425', 'frc3711', 'frc360']}},\n",
       " 'comp_level': 'f',\n",
       " 'event_key': '2020orore',\n",
       " 'key': '2020orore_f1m1',\n",
       " 'match_number': 1,\n",
       " 'post_result_time': 1583018844,\n",
       " 'predicted_time': 1583018642,\n",
       " 'score_breakdown': {'blue': {'adjustPoints': 0,\n",
       "   'autoCellPoints': 40,\n",
       "   'autoCellsBottom': 3,\n",
       "   'autoCellsInner': 1,\n",
       "   'autoCellsOuter': 7,\n",
       "   'autoInitLinePoints': 15,\n",
       "   'autoPoints': 55,\n",
       "   'controlPanelPoints': 0,\n",
       "   'endgamePoints': 65,\n",
       "   'endgameRobot1': 'Hang',\n",
       "   'endgameRobot2': 'Hang',\n",
       "   'endgameRobot3': 'None',\n",
       "   'endgameRungIsLevel': 'IsLevel',\n",
       "   'foulCount': 0,\n",
       "   'foulPoints': 15,\n",
       "   'initLineRobot1': 'Exited',\n",
       "   'initLineRobot2': 'Exited',\n",
       "   'initLineRobot3': 'Exited',\n",
       "   'rp': 0,\n",
       "   'shieldEnergizedRankingPoint': False,\n",
       "   'shieldOperationalRankingPoint': False,\n",
       "   'stage1Activated': True,\n",
       "   'stage2Activated': False,\n",
       "   'stage3Activated': False,\n",
       "   'stage3TargetColor': 'Unknown',\n",
       "   'tba_numRobotsHanging': 2,\n",
       "   'tba_shieldEnergizedRankingPointFromFoul': False,\n",
       "   'techFoulCount': 0,\n",
       "   'teleopCellPoints': 36,\n",
       "   'teleopCellsBottom': 0,\n",
       "   'teleopCellsInner': 0,\n",
       "   'teleopCellsOuter': 18,\n",
       "   'teleopPoints': 101,\n",
       "   'totalPoints': 171},\n",
       "  'red': {'adjustPoints': 0,\n",
       "   'autoCellPoints': 52,\n",
       "   'autoCellsBottom': 0,\n",
       "   'autoCellsInner': 2,\n",
       "   'autoCellsOuter': 10,\n",
       "   'autoInitLinePoints': 15,\n",
       "   'autoPoints': 67,\n",
       "   'controlPanelPoints': 0,\n",
       "   'endgamePoints': 65,\n",
       "   'endgameRobot1': 'Hang',\n",
       "   'endgameRobot2': 'Hang',\n",
       "   'endgameRobot3': 'None',\n",
       "   'endgameRungIsLevel': 'IsLevel',\n",
       "   'foulCount': 0,\n",
       "   'foulPoints': 0,\n",
       "   'initLineRobot1': 'Exited',\n",
       "   'initLineRobot2': 'Exited',\n",
       "   'initLineRobot3': 'Exited',\n",
       "   'rp': 0,\n",
       "   'shieldEnergizedRankingPoint': False,\n",
       "   'shieldOperationalRankingPoint': False,\n",
       "   'stage1Activated': True,\n",
       "   'stage2Activated': False,\n",
       "   'stage3Activated': False,\n",
       "   'stage3TargetColor': 'Unknown',\n",
       "   'tba_numRobotsHanging': 2,\n",
       "   'tba_shieldEnergizedRankingPointFromFoul': False,\n",
       "   'techFoulCount': 1,\n",
       "   'teleopCellPoints': 47,\n",
       "   'teleopCellsBottom': 0,\n",
       "   'teleopCellsInner': 7,\n",
       "   'teleopCellsOuter': 13,\n",
       "   'teleopPoints': 112,\n",
       "   'totalPoints': 179}},\n",
       " 'set_number': 1,\n",
       " 'time': 1583018160,\n",
       " 'videos': [{'key': 'T7EasWkNITo', 'type': 'youtube'}],\n",
       " 'winning_alliance': 'red'}"
      ]
     },
     "execution_count": 8,
     "metadata": {},
     "output_type": "execute_result"
    }
   ],
   "source": [
    "zp1.score"
   ]
  },
  {
   "cell_type": "code",
   "execution_count": null,
   "id": "b208da6b-ff52-4630-a78f-0f0726f6d589",
   "metadata": {},
   "outputs": [],
   "source": [
    "print(m1_path['event'])\n",
    "print(m1_path['match'])"
   ]
  },
  {
   "cell_type": "markdown",
   "id": "3459ad6b-3d1d-4b24-9fa4-a5e307271c87",
   "metadata": {},
   "source": [
    "```json\n",
    "{'event': '2020orore',\n",
    " 'match': '2020orore_f1m1',\n",
    " 'zebra':\n",
    "     {'alliances':\n",
    "           {'blue': [\n",
    "               {'team_key': 'frc4488', 'xs': [11.64 11.65 11.72, ..., 27.01 27.05 27.1], 'ys': [5.86 5.86 5.89, ..., 16.54 16.58 16.67]},\n",
    "               {'team_key': 'frc3674', 'xs': [None 11.95 11.74, ..., 23.23 23.21 23.28], 'ys': [None 26.1 25.85, ..., 14.69 14.67 14.62]},\n",
    "               {'team_key': 'frc6465', 'xs': [None None None, ..., None None None], 'ys': [None None None, ..., None None None]}],\n",
    "            'red': [\n",
    "               {'team_key': 'frc1425', 'xs': [None 42.48 42.09, ..., 30.13 30.08 30.05], 'ys': [None 1.88 1.82, ..., 11.36 11.21 11.03]},\n",
    "               {'team_key': 'frc3711', 'xs': [None 44.53 44.49, ..., 25.92 25.96 26.0], 'ys': [None 10.36 10.38, ..., 9.85 9.93 10.03]},\n",
    "               {'team_key': 'frc360', 'xs': [None 43.8 43.85, ..., 27.83 27.58 27.38], 'ys': [None 7.77 7.76, ..., 1.83 2.08 2.24]}]\n",
    "          }\n",
    "     'key': '2020orore_f1m1',\n",
    "     'times': [0.0, 0.1, 0.2, ... 150.2, 150.3, 150.4]\n",
    "      },\n",
    " 'score':\n",
    "     {'actual_time': 1583018668,\n",
    "      'alliances':\n",
    "         {'blue': {\n",
    "              'dq_team_keys': [],\n",
    "              'score': 171,\n",
    "              'surrogate_team_keys': [],\n",
    "              'team_keys': ['frc4488', 'frc3674', 'frc6465']},\n",
    "          'red': {\n",
    "              'dq_team_keys': [],\n",
    "              'score': 179,\n",
    "              'surrogate_team_keys': [],\n",
    "              'team_keys': ['frc1425', 'frc3711', 'frc360']}},\n",
    "     'comp_level': 'f',\n",
    "     'event_key': '2020orore',\n",
    "     'key': '2020orore_f1m1',\n",
    "     'match_number': 1,\n",
    "     'post_result_time': 1583018844,\n",
    "     'predicted_time': 1583018642,\n",
    "     'score_breakdown': {\n",
    "         'blue': {\n",
    "               'adjustPoints': 0,\n",
    "               'autoCellPoints': 40,\n",
    "               'autoCellsBottom': 3,\n",
    "               'autoCellsInner': 1,\n",
    "               'autoCellsOuter': 7,\n",
    "               'autoInitLinePoints': 15,\n",
    "               'autoPoints': 55,\n",
    "               'controlPanelPoints': 0,\n",
    "               'endgamePoints': 65,\n",
    "               'endgameRobot1': 'Hang',\n",
    "               'endgameRobot2': 'Hang',\n",
    "               'endgameRobot3': 'None',\n",
    "               'endgameRungIsLevel': 'IsLevel',\n",
    "               'foulCount': 0,\n",
    "               'foulPoints': 15,\n",
    "               'initLineRobot1': 'Exited',\n",
    "               'initLineRobot2': 'Exited',\n",
    "               'initLineRobot3': 'Exited',\n",
    "               'rp': 0,\n",
    "               'shieldEnergizedRankingPoint': False,\n",
    "               'shieldOperationalRankingPoint': False,\n",
    "               'stage1Activated': True,\n",
    "               'stage2Activated': False,\n",
    "               'stage3Activated': False,\n",
    "               'stage3TargetColor': 'Unknown',\n",
    "               'tba_numRobotsHanging': 2,\n",
    "               'tba_shieldEnergizedRankingPointFromFoul': False,\n",
    "               'techFoulCount': 0,\n",
    "               'teleopCellPoints': 36,\n",
    "               'teleopCellsBottom': 0,\n",
    "               'teleopCellsInner': 0,\n",
    "               'teleopCellsOuter': 18,\n",
    "               'teleopPoints': 101,\n",
    "               'totalPoints': 171},\n",
    "          'red': {\n",
    "               'adjustPoints': 0,\n",
    "               'autoCellPoints': 52,\n",
    "               'autoCellsBottom': 0,\n",
    "               'autoCellsInner': 2,\n",
    "               'autoCellsOuter': 10,\n",
    "               'autoInitLinePoints': 15,\n",
    "               'autoPoints': 67,\n",
    "               'controlPanelPoints': 0,\n",
    "               'endgamePoints': 65,\n",
    "               'endgameRobot1': 'Hang',\n",
    "               'endgameRobot2': 'Hang',\n",
    "               'endgameRobot3': 'None',\n",
    "               'endgameRungIsLevel': 'IsLevel',\n",
    "               'foulCount': 0,\n",
    "               'foulPoints': 0,\n",
    "               'initLineRobot1': 'Exited',\n",
    "               'initLineRobot2': 'Exited',\n",
    "               'initLineRobot3': 'Exited',\n",
    "               'rp': 0,\n",
    "               'shieldEnergizedRankingPoint': False,\n",
    "               'shieldOperationalRankingPoint': False,\n",
    "               'stage1Activated': True,\n",
    "               'stage2Activated': False,\n",
    "               'stage3Activated': False,\n",
    "               'stage3TargetColor': 'Unknown',\n",
    "               'tba_numRobotsHanging': 2,\n",
    "               'tba_shieldEnergizedRankingPointFromFoul': False,\n",
    "               'techFoulCount': 1,\n",
    "               'teleopCellPoints': 47,\n",
    "               'teleopCellsBottom': 0,\n",
    "               'teleopCellsInner': 7,\n",
    "               'teleopCellsOuter': 13,\n",
    "               'teleopPoints': 112,\n",
    "               'totalPoints': 179}},\n",
    "     'set_number': 1,\n",
    "     'time': 1583018160,\n",
    "     'videos': [{'key': 'T7EasWkNITo', 'type': 'youtube'}],\n",
    "     'winning_alliance': 'red'}\n",
    "}\n",
    "```"
   ]
  },
  {
   "cell_type": "code",
   "execution_count": null,
   "id": "67d75dca-8dc2-47dd-9884-90053ca1d527",
   "metadata": {},
   "outputs": [],
   "source": [
    "match_seconds = 150\n",
    "num_pos = zp1.paths.shape[1]\n",
    "num_pos / match_seconds"
   ]
  },
  {
   "cell_type": "code",
   "execution_count": null,
   "id": "27c71920-6fbb-4607-ab6b-a2ebe95beb4c",
   "metadata": {},
   "outputs": [],
   "source": [
    "md = tba.get_match_data('2020orore_f1m1')"
   ]
  },
  {
   "cell_type": "code",
   "execution_count": null,
   "id": "837b0a06-1f5f-4c08-80c4-18b96afc4c0a",
   "metadata": {},
   "outputs": [],
   "source": [
    "md"
   ]
  },
  {
   "cell_type": "code",
   "execution_count": null,
   "id": "10a7e5c5-323a-4311-b730-93a7fd80e532",
   "metadata": {},
   "outputs": [],
   "source": []
  }
 ],
 "metadata": {
  "kernelspec": {
   "display_name": "Python 3",
   "language": "python",
   "name": "python3"
  },
  "language_info": {
   "codemirror_mode": {
    "name": "ipython",
    "version": 3
   },
   "file_extension": ".py",
   "mimetype": "text/x-python",
   "name": "python",
   "nbconvert_exporter": "python",
   "pygments_lexer": "ipython3",
   "version": "3.9.6"
  }
 },
 "nbformat": 4,
 "nbformat_minor": 5
}
