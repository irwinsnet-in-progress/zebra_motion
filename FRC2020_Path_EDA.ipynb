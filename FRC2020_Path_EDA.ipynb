{
 "cells": [
  {
   "cell_type": "markdown",
   "id": "07ba7095-d554-498c-a5d7-6e80a221e95e",
   "metadata": {},
   "source": [
    "# 2020 FRC Zebra Path Data"
   ]
  },
  {
   "cell_type": "code",
   "execution_count": 10,
   "id": "abb27c31-a973-4a7a-8296-36b0fb80387b",
   "metadata": {
    "tags": []
   },
   "outputs": [],
   "source": [
    "import json\n",
    "\n",
    "import ipywidgets as widgets\n",
    "import matplotlib\n",
    "import matplotlib.pyplot as plt\n",
    "import numpy as np\n",
    "import pandas as pd"
   ]
  },
  {
   "cell_type": "code",
   "execution_count": 2,
   "id": "382d1cf0-977e-4c83-838a-2b81abfa5122",
   "metadata": {},
   "outputs": [],
   "source": [
    "class ZPath():\n",
    "    def __init__(self, path_data):\n",
    "        self.event = path_data['event']\n",
    "        self.match = path_data['match']\n",
    "        self.blue = [team['team_key'] for team in path_data['zebra']['alliances']['blue']]\n",
    "        self.red = [team['team_key'] for team in path_data['zebra']['alliances']['red']]\n",
    "        paths = []\n",
    "        for alliance in ['blue', 'red']:\n",
    "            for team in path_data['zebra']['alliances'][alliance]:\n",
    "                for axis in ['xs', 'ys']:\n",
    "                    paths.append(team[axis])\n",
    "        self.paths = np.array(paths)\n",
    "        self.times = np.array(path_data['zebra']['times'])\n",
    "        self.score = path_data['score']\n",
    "\n",
    "class RoboPaths():\n",
    "    def __init__(self, file):\n",
    "        self.event_summary = None\n",
    "        self.paths = None\n",
    "        \n",
    "        self._read_file(file)\n",
    "        \n",
    "    def __getitem__(self, idx):\n",
    "        return self.paths[idx]\n",
    "    \n",
    "    def __len__(self):\n",
    "        return len(self.paths)\n",
    "    \n",
    "    def _read_file(self, file):\n",
    "        # Convert all file data to JSON -- assumes file is not too big to load into memory\n",
    "        with open(file) as jlfile:\n",
    "            self.paths = [json.loads(line) for line in jlfile]\n",
    "        \n",
    "        # Create Event Summary Dataframe -- shows all events checked for zebra data\n",
    "        events = [path['event'] for path in self.paths]\n",
    "        matches = [path['match'] for path in self.paths]\n",
    "        zebra = [ 0 if path['zebra'] is None else 1 for path in self.paths]\n",
    "        self.event_summary = (\n",
    "            pd.DataFrame({'event': events, 'match': matches, 'path': zebra})\n",
    "            .groupby('event')\n",
    "            .agg(path_matches=('path', 'sum'))\n",
    "        )\n",
    "        \n",
    "        # Remove matches with no Zebra path data\n",
    "        self.paths = [ZPath(path) for path in self.paths if path['zebra'] is not None]\n"
   ]
  },
  {
   "cell_type": "code",
   "execution_count": 3,
   "id": "d07d713b-50fe-4863-8b3b-0df0864c705c",
   "metadata": {},
   "outputs": [],
   "source": [
    "rp = RoboPaths('frc2020B.jsonl')"
   ]
  },
  {
   "cell_type": "code",
   "execution_count": 4,
   "id": "1dca155c-5979-4dbd-b084-2b4a58766cdc",
   "metadata": {},
   "outputs": [
    {
     "data": {
      "text/plain": [
       "array([0.000e+00, 1.000e-01, 2.000e-01, ..., 1.498e+02, 1.499e+02,\n",
       "       1.500e+02])"
      ]
     },
     "execution_count": 4,
     "metadata": {},
     "output_type": "execute_result"
    }
   ],
   "source": [
    "rp[0].times"
   ]
  },
  {
   "cell_type": "code",
   "execution_count": 5,
   "id": "08eaa957-ee3b-4634-9a84-67bbde264ce9",
   "metadata": {},
   "outputs": [
    {
     "data": {
      "application/vnd.jupyter.widget-view+json": {
       "model_id": "a8dbd63f774b43b686ac08ba3e58f011",
       "version_major": 2,
       "version_minor": 0
      },
      "text/plain": [
       "Canvas(toolbar=Toolbar(toolitems=[('Home', 'Reset original view', 'home', 'home'), ('Back', 'Back to previous …"
      ]
     },
     "metadata": {},
     "output_type": "display_data"
    }
   ],
   "source": [
    "idx = 534\n",
    "plt.plot(rp[idx].paths[0], rp[idx].paths[1])\n",
    "plt.grid()\n",
    "plt.show()"
   ]
  },
  {
   "cell_type": "code",
   "execution_count": 11,
   "id": "a0f8e79a-1de2-4bb1-b185-87150e793fbc",
   "metadata": {},
   "outputs": [],
   "source": [
    "\n",
    "\n",
    "def plot_field():\n",
    "    plt.clf()\n",
    "    fig, ax = plt.subplots()\n",
    "    ax.set_axis_off()\n",
    "    # Field Perimieter\n",
    "    ax.add_patch(matplotlib.patches.Rectangle((0, 0), 52.438, 26.938, fill=False))\n",
    "    # Initiation Lines\n",
    "    ax.add_artist(matplotlib.lines.Line2D([10, 10], [0, 26.938], color='silver'))\n",
    "    ax.add_artist(matplotlib.lines.Line2D([42.438, 42.438], [0, 26.938], color='silver'))\n",
    "    \n",
    "    # Target Zones\n",
    "    ax.add_artist(matplotlib.lines.Line2D([0, 2.5], [21.049, 19.049], color='cornflowerblue'))\n",
    "    ax.add_artist(matplotlib.lines.Line2D([2.5, 0], [19.049, 17.049], color='cornflowerblue'))\n",
    "    ax.add_artist(matplotlib.lines.Line2D([52.438, 49.938], [9.888, 7.888], color='tomato'))\n",
    "    ax.add_artist(matplotlib.lines.Line2D([49.938, 52.438], [7.888, 5.888], color='tomato'))\n",
    "    \n",
    "    # Loading Zones\n",
    "    ax.add_artist(matplotlib.lines.Line2D([0, 2.5], [10.388, 7.888], color='tomato'))\n",
    "    ax.add_artist(matplotlib.lines.Line2D([2.5, 0], [7.888, 5.388], color='tomato'))\n",
    "    ax.add_artist(matplotlib.lines.Line2D([52.438, 49.938], [21.549, 19.049], color='cornflowerblue'))\n",
    "    ax.add_artist(matplotlib.lines.Line2D([49.938, 52.438], [19.049, 16.549], color='cornflowerblue'))\n",
    "    \n",
    "    ax.plot(rp[idx].paths[0][:150], rp[idx].paths[1][:150])\n",
    "    \n",
    "    ax.set_aspect('equal')\n",
    "    ax.set_xlim(-1, 55)\n",
    "    ax.set_ylim(-1, 27)\n",
    "    ax.set_title('Field')"
   ]
  },
  {
   "cell_type": "code",
   "execution_count": 12,
   "id": "4e29d4fe-b955-4b45-9748-8956b2d5c69f",
   "metadata": {},
   "outputs": [],
   "source": [
    "out = widgets.Output()\n",
    "with out:\n",
    "    plot_field()\n",
    "    plt.show()"
   ]
  },
  {
   "cell_type": "code",
   "execution_count": null,
   "id": "74ddad8b-ab57-437d-8526-6c861c79e9e0",
   "metadata": {},
   "outputs": [],
   "source": []
  },
  {
   "cell_type": "code",
   "execution_count": null,
   "id": "be973ade-081c-4007-82b8-4edfda1ee98c",
   "metadata": {},
   "outputs": [],
   "source": []
  }
 ],
 "metadata": {
  "kernelspec": {
   "display_name": "Python 3",
   "language": "python",
   "name": "python3"
  },
  "language_info": {
   "codemirror_mode": {
    "name": "ipython",
    "version": 3
   },
   "file_extension": ".py",
   "mimetype": "text/x-python",
   "name": "python",
   "nbconvert_exporter": "python",
   "pygments_lexer": "ipython3",
   "version": "3.9.6"
  }
 },
 "nbformat": 4,
 "nbformat_minor": 5
}
