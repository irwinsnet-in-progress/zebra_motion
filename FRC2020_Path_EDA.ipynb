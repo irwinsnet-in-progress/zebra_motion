{
 "cells": [
  {
   "cell_type": "markdown",
   "id": "07ba7095-d554-498c-a5d7-6e80a221e95e",
   "metadata": {},
   "source": [
    "# 2020 FRC Zebra Path Data"
   ]
  },
  {
   "cell_type": "code",
   "execution_count": 1,
   "id": "abb27c31-a973-4a7a-8296-36b0fb80387b",
   "metadata": {
    "tags": []
   },
   "outputs": [],
   "source": [
    "import json\n",
    "\n",
    "import PyQt5\n",
    "\n",
    "import numpy as np\n",
    "import pandas as pd\n",
    "\n",
    "import matplotlib\n",
    "matplotlib.use('qt5agg')\n",
    "import matplotlib.pyplot as plt\n",
    "%matplotlib qt\n",
    "\n",
    "import zebra"
   ]
  },
  {
   "cell_type": "code",
   "execution_count": 2,
   "id": "7a760fd7-044c-4090-83ad-556b4f5a6c00",
   "metadata": {},
   "outputs": [],
   "source": [
    "DATA_FILE = r'C:\\Users\\stacy\\OneDrive\\Projects\\zebra\\zebra_motion\\frc2020B.jsonl'\n",
    "zc = zebra.Competitions(DATA_FILE)"
   ]
  },
  {
   "cell_type": "code",
   "execution_count": 4,
   "id": "382d1cf0-977e-4c83-838a-2b81abfa5122",
   "metadata": {},
   "outputs": [],
   "source": [
    "zebra.plot_paths(zc['2020wasno_qm1'])"
   ]
  },
  {
   "cell_type": "code",
   "execution_count": null,
   "id": "f06bb5a3-0657-4cc3-be04-bdaa1b573703",
   "metadata": {},
   "outputs": [],
   "source": []
  }
 ],
 "metadata": {
  "kernelspec": {
   "display_name": "Python 3",
   "language": "python",
   "name": "python3"
  },
  "language_info": {
   "codemirror_mode": {
    "name": "ipython",
    "version": 3
   },
   "file_extension": ".py",
   "mimetype": "text/x-python",
   "name": "python",
   "nbconvert_exporter": "python",
   "pygments_lexer": "ipython3",
   "version": "3.9.6"
  }
 },
 "nbformat": 4,
 "nbformat_minor": 5
}
