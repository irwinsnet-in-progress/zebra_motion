{
 "cells": [
  {
   "cell_type": "code",
   "execution_count": 2,
   "id": "61724826-b3e9-404c-9a31-3ca8004ab218",
   "metadata": {},
   "outputs": [],
   "source": [
    "import os\n",
    "import os.path\n",
    "import sys\n",
    "\n",
    "import bokeh\n",
    "import bokeh.io\n",
    "import bokeh.models\n",
    "import bokeh.plotting as plt\n",
    "\n",
    "sys.path.insert(0, os.path.abspath('..'))\n",
    "import zebra.data\n",
    "import zebra.path\n",
    "import zebra.plot.bokeh as zpb"
   ]
  },
  {
   "cell_type": "code",
   "execution_count": 3,
   "id": "0aebdd4a-3200-47b6-9afb-c4ce9537f1a4",
   "metadata": {},
   "outputs": [],
   "source": [
    "DATA_FILE = r'C:\\Users\\stacy\\OneDrive\\Projects\\zebra\\zebra_data\\2020wasno.jsonl'\n",
    "zc = zebra.path.Competitions(DATA_FILE)"
   ]
  },
  {
   "cell_type": "code",
   "execution_count": 4,
   "id": "fd07de03-bf32-4fd7-9874-435d6945b9c2",
   "metadata": {},
   "outputs": [],
   "source": [
    "FIELD_FILE = r'C:\\Users\\stacy\\OneDrive\\Projects\\zebra\\zebra_motion\\field2020.json'\n",
    "field = zebra.data.read_field(FIELD_FILE)"
   ]
  },
  {
   "cell_type": "code",
   "execution_count": 7,
   "id": "a50fcc27-99a8-470a-b7a1-1ce9510718be",
   "metadata": {},
   "outputs": [],
   "source": [
    "def plot_mtch(zmatch, field, height=450, path_colors=None):\n",
    "    if path_colors is None:\n",
    "        path_colors = ['darkblue', 'royalblue', 'deepskyblue', 'darkred', 'crimson', 'lightcoral']\n",
    "    width = int(height * 16  / 8)\n",
    "    \n",
    "    fig = plt.figure(title=zmatch.match, match_aspect=True, plot_height=height, plot_width=width)\n",
    "    fig.xgrid.grid_line_color = None\n",
    "    fig.ygrid.grid_line_color = None\n",
    "    for line in field['lines']:\n",
    "        color = field['colors'][line['class']]\n",
    "        fig.line(line['x'], line['y'], line_color=color)\n",
    "    \n",
    "    labels = zmatch.blue + zmatch.red\n",
    "    for idx in range(6):\n",
    "        fig.line(zmatch.paths[2*idx], zmatch.paths[2*idx + 1], line_color=path_colors[idx])\n",
    "        \n",
    "    return fig\n",
    "        "
   ]
  },
  {
   "cell_type": "code",
   "execution_count": 8,
   "id": "f31b4e5f-6a9a-4c4b-984b-dbf766c86f26",
   "metadata": {},
   "outputs": [],
   "source": [
    "fig = plot_mtch(zc['2020wasno_qm1'], field, 800)\n",
    "bokeh.io.show(fig)"
   ]
  },
  {
   "cell_type": "code",
   "execution_count": 6,
   "id": "7e91078d-987b-43cc-b71c-585f9d830b6a",
   "metadata": {},
   "outputs": [
    {
     "ename": "NameError",
     "evalue": "name 'bplt' is not defined",
     "output_type": "error",
     "traceback": [
      "\u001b[1;31m---------------------------------------------------------------------------\u001b[0m",
      "\u001b[1;31mNameError\u001b[0m                                 Traceback (most recent call last)",
      "\u001b[1;32m<ipython-input-6-f6118eb04189>\u001b[0m in \u001b[0;36m<module>\u001b[1;34m\u001b[0m\n\u001b[0;32m      1\u001b[0m \u001b[0mqm1\u001b[0m \u001b[1;33m=\u001b[0m \u001b[0mzc\u001b[0m\u001b[1;33m[\u001b[0m\u001b[1;34m'2020wasno_qm1'\u001b[0m\u001b[1;33m]\u001b[0m\u001b[1;33m\u001b[0m\u001b[1;33m\u001b[0m\u001b[0m\n\u001b[1;32m----> 2\u001b[1;33m \u001b[0mp\u001b[0m \u001b[1;33m=\u001b[0m \u001b[0mbplt\u001b[0m\u001b[1;33m.\u001b[0m\u001b[0mfigure\u001b[0m\u001b[1;33m(\u001b[0m\u001b[0mtitle\u001b[0m\u001b[1;33m=\u001b[0m\u001b[1;34m'Zebra Plot'\u001b[0m\u001b[1;33m)\u001b[0m\u001b[1;33m\u001b[0m\u001b[1;33m\u001b[0m\u001b[0m\n\u001b[0m\u001b[0;32m      3\u001b[0m \u001b[0mp\u001b[0m\u001b[1;33m.\u001b[0m\u001b[0mline\u001b[0m\u001b[1;33m(\u001b[0m\u001b[0mqm1\u001b[0m\u001b[1;33m.\u001b[0m\u001b[0mpaths\u001b[0m\u001b[1;33m[\u001b[0m\u001b[1;36m0\u001b[0m\u001b[1;33m]\u001b[0m\u001b[1;33m,\u001b[0m \u001b[0mqm1\u001b[0m\u001b[1;33m.\u001b[0m\u001b[0mpaths\u001b[0m\u001b[1;33m[\u001b[0m\u001b[1;36m1\u001b[0m\u001b[1;33m]\u001b[0m\u001b[1;33m)\u001b[0m\u001b[1;33m\u001b[0m\u001b[1;33m\u001b[0m\u001b[0m\n\u001b[0;32m      4\u001b[0m \u001b[1;33m\u001b[0m\u001b[0m\n\u001b[0;32m      5\u001b[0m \u001b[0mbio\u001b[0m\u001b[1;33m.\u001b[0m\u001b[0mshow\u001b[0m\u001b[1;33m(\u001b[0m\u001b[0mp\u001b[0m\u001b[1;33m)\u001b[0m\u001b[1;33m\u001b[0m\u001b[1;33m\u001b[0m\u001b[0m\n",
      "\u001b[1;31mNameError\u001b[0m: name 'bplt' is not defined"
     ]
    }
   ],
   "source": [
    "qm1 = zc['2020wasno_qm1']\n",
    "p = bplt.figure(title='Zebra Plot')\n",
    "p.line(qm1.paths[0], qm1.paths[1])\n",
    "\n",
    "bio.show(p)"
   ]
  },
  {
   "cell_type": "code",
   "execution_count": null,
   "id": "e2b71460-0f4e-4a6d-928b-0e31e6e177df",
   "metadata": {},
   "outputs": [],
   "source": []
  }
 ],
 "metadata": {
  "kernelspec": {
   "display_name": "Python 3",
   "language": "python",
   "name": "python3"
  },
  "language_info": {
   "codemirror_mode": {
    "name": "ipython",
    "version": 3
   },
   "file_extension": ".py",
   "mimetype": "text/x-python",
   "name": "python",
   "nbconvert_exporter": "python",
   "pygments_lexer": "ipython3",
   "version": "3.9.6"
  }
 },
 "nbformat": 4,
 "nbformat_minor": 5
}
