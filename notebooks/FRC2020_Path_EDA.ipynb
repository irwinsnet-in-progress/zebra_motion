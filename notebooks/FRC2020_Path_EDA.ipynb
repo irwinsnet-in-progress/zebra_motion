{
 "cells": [
  {
   "cell_type": "markdown",
   "id": "9f0b9099",
   "metadata": {},
   "source": [
    "# 2020 FRC Zebra Path Data"
   ]
  },
  {
   "cell_type": "code",
   "execution_count": 13,
   "id": "e28a45b9-f5f1-4bbd-8bb4-10c811c3588e",
   "metadata": {},
   "outputs": [],
   "source": [
    "import os\n",
    "import os.path\n",
    "import sys\n",
    "\n",
    "import matplotlib\n",
    "matplotlib.use('qt5agg')\n",
    "import matplotlib.pyplot as plt\n",
    "%matplotlib qt5\n",
    "\n",
    "sys.path.insert(0, os.path.abspath('..'))\n",
    "import zebra.data\n",
    "import zebra.path\n",
    "import zebra.plot.matplotlib as zpm"
   ]
  },
  {
   "cell_type": "code",
   "execution_count": 14,
   "id": "ec846bb4",
   "metadata": {},
   "outputs": [],
   "source": [
    "DATA_FILE = r'C:\\Users\\stacy\\OneDrive\\Projects\\zebra\\zebra_data\\frc2020B.jsonl'\r\n",
    "zc = zebra.path.Competitions(DATA_FILE)\r\n",
    "FIELD_FILE = r'C:\\Users\\stacy\\OneDrive\\Projects\\zebra\\zebra_motion\\field2020.json'\r\n",
    "field = zebra.data.read_field(FIELD_FILE)"
   ]
  },
  {
   "cell_type": "code",
   "execution_count": 17,
   "id": "0969d06b",
   "metadata": {},
   "outputs": [],
   "source": [
    "zpm.plot(zc['2020wasno_qm1'], field)"
   ]
  },
  {
   "cell_type": "code",
   "execution_count": null,
   "id": "3530f0d1",
   "metadata": {},
   "outputs": [],
   "source": []
  }
 ],
 "metadata": {
  "interpreter": {
   "hash": "fd070b82e5a31a7a17fcda6fcb0df8a7b239c61a9e4d6e581f3a87fc528403fd"
  },
  "kernelspec": {
   "display_name": "Python 3",
   "language": "python",
   "name": "python3"
  },
  "language_info": {
   "codemirror_mode": {
    "name": "ipython",
    "version": 3
   },
   "file_extension": ".py",
   "mimetype": "text/x-python",
   "name": "python",
   "nbconvert_exporter": "python",
   "pygments_lexer": "ipython3",
   "version": "3.9.6"
  }
 },
 "nbformat": 4,
 "nbformat_minor": 5
}
